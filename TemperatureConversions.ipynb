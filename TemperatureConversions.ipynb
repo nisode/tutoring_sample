{
  "nbformat": 4,
  "nbformat_minor": 0,
  "metadata": {
    "colab": {
      "provenance": [],
      "toc_visible": true
    },
    "kernelspec": {
      "name": "python3",
      "display_name": "Python 3"
    },
    "language_info": {
      "name": "python"
    }
  },
  "cells": [
    {
      "cell_type": "markdown",
      "source": [
        "# Your Code"
      ],
      "metadata": {
        "id": "w-THEmpN5ctI"
      }
    },
    {
      "cell_type": "markdown",
      "source": [
        "I'm proud you were able to produce your first program with an if else structure! It also has some decent complexities so give yourself a hand and pat on the back."
      ],
      "metadata": {
        "id": "4-Coa4Epg6jy"
      }
    },
    {
      "cell_type": "code",
      "source": [
        "print('Temperature type to convert:')\n",
        "print('1. Farenheit')\n",
        "print('2. Celsius')\n",
        "print('3. Kelvin')\n",
        "\n",
        "user_temp_type = input('Enter the number (1, 2, or 3) of the temperature type you wish to convert from the list above: ')\n",
        "user_temp_value = input('Enter the value of the temperature: ')\n",
        "user_temp_value = int(user_temp_value)\n",
        "\n",
        "for temp in user_temp_type:\n",
        "  if user_temp_type == '1':\n",
        "    #F to K, C\n",
        "    F_to_K = ((user_temp_value - 32.0) * (5.0/9.0)) + 273.15\n",
        "    F_to_C = (user_temp_value - 32.0) * (5.0/9.0)\n",
        "    print(user_temp_value, \"degrees Fahrenheit is \", \"{:0.2f}\".format(F_to_K),'degrees Kelvin.')\n",
        "    print(user_temp_value, \"degrees Fahrenheit is \", \"{:0.2f}\".format(F_to_C),'degrees Celsius.')\n",
        "  \n",
        "  elif user_temp_type == '2':\n",
        "    #C to F, K\n",
        "    C_to_K = user_temp_value + 273.15\n",
        "    C_to_F = (user_temp_value * (9.0/5.0)) + 32\n",
        "    print(user_temp_value, \"degrees Celsius is \", \"{:0.2f}\".format(C_to_K),'degrees Kelvin.')\n",
        "    print(user_temp_value, \"degrees Celsius is \", \"{:0.2f}\".format(C_to_F),'degrees Fahrenheit.')\n",
        "  \n",
        "  else:\n",
        "    #K to F, C\n",
        "    K_to_F = ((user_temp_value - 273.15) * (9.0/5.0)) +32\n",
        "    K_to_C = user_temp_value - 273.15\n",
        "    print(user_temp_value, \"degrees Kelvin is \", \"{:0.2f}\".format(K_to_F),'degrees Fahrenheit.')\n",
        "    print(user_temp_value, \"degrees Kevlin is \", \"{:0.2f}\".format(K_to_C),'degrees Celsius.')"
      ],
      "metadata": {
        "id": "_8cqwdCc5apH"
      },
      "execution_count": null,
      "outputs": []
    },
    {
      "cell_type": "markdown",
      "source": [
        "This level of feedback and guidance took a really long time so I can't do this often. I just thought I should give you more detailed guidance since you're in an early stage so having a better understanding of the tools can really improve your knowledge base and help you tackle harder problems in the future. I hope you find this easy to digest and helpful to understand."
      ],
      "metadata": {
        "id": "W7VpXn1Dhqti"
      }
    },
    {
      "cell_type": "markdown",
      "source": [
        "Ways to Improve Code:\n",
        "\n",
        "1. Check input values. This can cause a lot of issues.\n",
        "2. Unnecessary for loop.\n",
        "3. Slightly Inefficient code through unnecessary code repeats. \n",
        "4. fstrings formatting\n",
        "5. What if you wanted to repeat the program?"
      ],
      "metadata": {
        "id": "kzFVD1io5j_B"
      }
    },
    {
      "cell_type": "markdown",
      "source": [
        "This feedback may look very long, but the bulk of it is really just trying guide you through using while loops and ways to check user input for the format we want. This will save us a lot of bug issues. It doesn't mean your program is terrible. I'm just trying to explain some tools to increase your toolbox and understanding, so don't look at it negatively!"
      ],
      "metadata": {
        "id": "u-F5rPqHkTtM"
      }
    },
    {
      "cell_type": "markdown",
      "source": [
        "Try playing the program below with some suggested improvements impleneted. You can run it by pressing the play button on the bottom left that shows up when you hover over the text. Please don't click the 'Show code' button yet, since it'll be daunting to look at for now, but we'll get there slowly. Try all kinds of inputs what do you notice?"
      ],
      "metadata": {
        "id": "570Bwx3O6314"
      }
    },
    {
      "cell_type": "code",
      "source": [
        "#@title Press Play on Left (Leave Code Hidden for Now)\n",
        "correct_1 = False\n",
        "correct_2 = False\n",
        "accepted_vals1 = ['1','2','3']\n",
        "\n",
        "exit = False\n",
        "\n",
        "while not exit:\n",
        "  while not correct_1:\n",
        "    print('Temperature type to convert:')\n",
        "    print('1. Farenheit')\n",
        "    print('2. Celsius')\n",
        "    print('3. Kelvin')\n",
        "    print('4. Exit Program')\n",
        "    user_temp_type = input('Enter the number (1, 2, or 3) of the temperature type you wish to convert from the list above or 4 to exit program: ')\n",
        "    if user_temp_type in accepted_vals1:\n",
        "      correct_1 = True\n",
        "    elif user_temp_type == '4':\n",
        "      exit = True\n",
        "      correct_1 = True\n",
        "      correct_2 = True\n",
        "    else:\n",
        "      print(\"\")\n",
        "      print(\"-- Error: Unexpected Input. -- Please Enter: 1, 2, or 3 to convert temperature from or 4 to exit\")\n",
        "      print(\"\")\n",
        "\n",
        "\n",
        "  while not correct_2:\n",
        "    user_temp_value = input('Enter the value of the temperature: ')\n",
        "    try:\n",
        "      user_temp_value = float(user_temp_value)\n",
        "      correct_2 = True\n",
        "    except ValueError:\n",
        "      print(\"\")\n",
        "      print(\"-- Error: Unexpected Input. -- Please enter a number.\")\n",
        "      print(\"\")\n",
        "\n",
        "    \n",
        "\n",
        "  if user_temp_type == '1':\n",
        "    #F to K, C\n",
        "    F_to_C = (user_temp_value - 32.0) * (5.0/9.0)\n",
        "    F_to_K = F_to_C + 273.15\n",
        "    print(f\"{user_temp_value} degrees Fahrenheit is {F_to_K:0.2f} degrees Kelvin.\")\n",
        "    print(f\"{user_temp_value} degrees Fahrenheit is {F_to_C:0.2f} degrees Celsius.\")\n",
        "\n",
        "  elif user_temp_type == '2':\n",
        "    #C to F, K\n",
        "    C_to_K = user_temp_value + 273.15\n",
        "    C_to_F = (user_temp_value * (9.0/5.0)) + 32\n",
        "    print(f\"{user_temp_value} degrees Celsius is {C_to_K:0.2f} degrees Kelvin.\")\n",
        "    print(f\"{user_temp_value} degrees Celsius is {C_to_F:0.2f} degrees Fahrenheit.\")\n",
        "\n",
        "  elif user_temp_type == '3':\n",
        "    #K to F, C\n",
        "    K_to_C = user_temp_value - 273.15\n",
        "    K_to_F = (K_to_C * (9.0/5.0)) + 32\n",
        "    print(f\"{user_temp_value} degrees Kelvin is {K_to_F:0.2f} degrees Fahrenheit.\")\n",
        "    print(f\"{user_temp_value} degrees Kelvin is {K_to_C:0.2f} degrees Celsius.\")\n",
        "  \n",
        "  correct_1 = False\n",
        "  correct_2 = False\n",
        "  print(\"\")"
      ],
      "metadata": {
        "id": "n_10XBN42AhY"
      },
      "execution_count": null,
      "outputs": []
    },
    {
      "cell_type": "markdown",
      "source": [
        "## 1. Check Input Values"
      ],
      "metadata": {
        "id": "4rluDIur_ZDG"
      }
    },
    {
      "cell_type": "markdown",
      "source": [
        "The main way this program can be improved is to check user input values to avoid adding bugs from unintended inputs. Right now, your code takes every input for user_temp_type so someone can enter things that aren't intended and still get an output."
      ],
      "metadata": {
        "id": "DSQLn4le33Hp"
      }
    },
    {
      "cell_type": "markdown",
      "source": [
        "For example, try inputting 8 or asdfasd into temp type."
      ],
      "metadata": {
        "id": "SKOi5lyt_gTS"
      }
    },
    {
      "cell_type": "code",
      "source": [
        "print('Temperature type to convert:')\n",
        "print('1. Farenheit')\n",
        "print('2. Celsius')\n",
        "print('3. Kelvin')\n",
        "\n",
        "user_temp_type = input('Enter the number (1, 2, or 3) of the temperature type you wish to convert from the list above: ')\n",
        "user_temp_value = input('Enter the value of the temperature: ')\n",
        "user_temp_value = int(user_temp_value)\n",
        "\n",
        "for temp in user_temp_type:\n",
        "  if user_temp_type == '1':\n",
        "    #F to K, C\n",
        "    F_to_K = ((user_temp_value - 32.0) * (5.0/9.0)) + 273.15\n",
        "    F_to_C = (user_temp_value - 32.0) * (5.0/9.0)\n",
        "    print(user_temp_value, \"degrees Fahrenheit is \", \"{:0.2f}\".format(F_to_K),'degrees Kelvin.')\n",
        "    print(user_temp_value, \"degrees Fahrenheit is \", \"{:0.2f}\".format(F_to_C),'degrees Celsius.')\n",
        "  \n",
        "  elif user_temp_type == '2':\n",
        "    #C to F, K\n",
        "    C_to_K = user_temp_value + 273.15\n",
        "    C_to_F = (user_temp_value * (9.0/5.0)) + 32\n",
        "    print(user_temp_value, \"degrees Celsius is \", \"{:0.2f}\".format(C_to_K),'degrees Kelvin.')\n",
        "    print(user_temp_value, \"degrees Celsius is \", \"{:0.2f}\".format(C_to_F),'degrees Fahrenheit.')\n",
        "  \n",
        "  else:\n",
        "    #K to F, C\n",
        "    K_to_F = ((user_temp_value - 273.15) * (9.0/5.0)) +32\n",
        "    K_to_C = user_temp_value - 273.15\n",
        "    print(user_temp_value, \"degrees Kelvin is \", \"{:0.2f}\".format(K_to_F),'degrees Fahrenheit.')\n",
        "    print(user_temp_value, \"degrees Kevlin is \", \"{:0.2f}\".format(K_to_C),'degrees Celsius.')"
      ],
      "metadata": {
        "id": "Sii9CWDAJNVc"
      },
      "execution_count": null,
      "outputs": []
    },
    {
      "cell_type": "markdown",
      "source": [
        "What do you notice? It took whatever number you gave it in the second input and converted it from Kelvin because your else clause encompasses everything not 1 or 2. "
      ],
      "metadata": {
        "id": "vRj8bBX461PN"
      }
    },
    {
      "cell_type": "markdown",
      "source": [
        "Now try entering decimal numbers into the second input. What happens those? You'll see the decimal never registers because int() converts them to integers/whole numbers. You can also try intering strings or regular character like asbfasdf and you'll see that this crashes the program. You probably don't want that to happen."
      ],
      "metadata": {
        "id": "X3rFhnNd8xSD"
      }
    },
    {
      "cell_type": "markdown",
      "source": [
        "So what we can do is check the user inputs to make sure they match our desired formats, and if we don't we'll make the user keep entering inputs until it does.\n",
        "\n",
        "Let's look at one way we can do this with a while loop."
      ],
      "metadata": {
        "id": "HlX9s6PN9gAU"
      }
    },
    {
      "cell_type": "markdown",
      "source": [
        "A while loop will repeat the entire indented part until the condition attached to is false. \n",
        "\n",
        "Here's an example:"
      ],
      "metadata": {
        "id": "gHz6RhIyC_5J"
      }
    },
    {
      "cell_type": "code",
      "source": [
        "i = 0\n",
        "while i < 5:\n",
        "  print(\"loop\", i)\n",
        "  print(i)\n",
        "  i += 1\n",
        "  print(i)"
      ],
      "metadata": {
        "id": "nfQZVVzTDJ8V"
      },
      "execution_count": null,
      "outputs": []
    },
    {
      "cell_type": "code",
      "source": [
        "condition = True\n",
        "while condition:\n",
        "  input('Infinite input')"
      ],
      "metadata": {
        "id": "IXX-PteE-5Pl"
      },
      "execution_count": null,
      "outputs": []
    },
    {
      "cell_type": "markdown",
      "source": [
        "Now while condition is True, it will always ask for a user input.\n",
        "\n",
        "We don't want it to last forever so when input meets a certain criteria, we can set condition to False and thus break out of the while loop."
      ],
      "metadata": {
        "id": "cErBU25-_qMM"
      }
    },
    {
      "cell_type": "markdown",
      "source": [
        "First let's prove that setting condition to False will break out of the infinite while loop:"
      ],
      "metadata": {
        "id": "olW6plOEAJ_t"
      }
    },
    {
      "cell_type": "code",
      "source": [
        "condition = True\n",
        "while condition:\n",
        "  input('Infinite input')\n",
        "  condition = False"
      ],
      "metadata": {
        "id": "6OslOsoSAEhl"
      },
      "execution_count": null,
      "outputs": []
    },
    {
      "cell_type": "markdown",
      "source": [
        "There it set condition to False after anything from the first input() happened so let's do this with an if clause instead. Below the following loop will repeat forever until you type `Fox` but once you do, the loop will break. Notice that these are case sensitive, but you can think of a way to make it so it's not case sensitive as well."
      ],
      "metadata": {
        "id": "EuEImR6nAECO"
      }
    },
    {
      "cell_type": "code",
      "source": [
        "condition = True\n",
        "while condition:\n",
        "  user_input_1 = input(\"Type 'Fox' to break loop\")\n",
        "  if user_input_1 == 'Fox':\n",
        "    condition = False"
      ],
      "metadata": {
        "id": "FDW8RJ5uAjIV"
      },
      "execution_count": null,
      "outputs": []
    },
    {
      "cell_type": "markdown",
      "source": [
        "What about multiple conditions? Let's see how we can input both `Fox` and `Bear` to break the condition."
      ],
      "metadata": {
        "id": "_kcwsd7a-7qx"
      }
    },
    {
      "cell_type": "code",
      "source": [
        "condition = True\n",
        "while condition:\n",
        "  user_input_1 = input(\"Type 'Fox' to break loop\")\n",
        "  if user_input_1 == 'Fox' or user_input_1 == 'Bear':\n",
        "    condition = False"
      ],
      "metadata": {
        "id": "j8U3lDNF-7DX"
      },
      "execution_count": null,
      "outputs": []
    },
    {
      "cell_type": "markdown",
      "source": [
        "You might be thinking, can't I just do `user_input_1 == 'Fox' or 'Bear'` but no you can't. When working with conditions, both sides of the condition will be evaluated, so in this case `user_input_1 == 'Fox'` will evaluate as True or False, but what would `Bear` be evaluated as stand alone? Let's try it:"
      ],
      "metadata": {
        "id": "Dz_ebZ3d_OYE"
      }
    },
    {
      "cell_type": "code",
      "source": [
        "test_input = \"Snake\"\n",
        "if test_input == 'Fox' or 'Bear':\n",
        "  print(\"What do you notice?\")"
      ],
      "metadata": {
        "id": "rYE0d8i0_wGc"
      },
      "execution_count": null,
      "outputs": []
    },
    {
      "cell_type": "markdown",
      "source": [
        "So left hand side of the or condition `test_input == 'Fox'` is clearly False since test_input is set as `Snake` but it printed the `What do you notice?` anyways. This should show you thatPython counts `Bear` as True since False or True evaluates to True since as long as one side is True, it is True. This is because just about anything not 0 or None type, is considered True by Python as long as there's something there."
      ],
      "metadata": {
        "id": "FmeqPKb2ASQp"
      }
    },
    {
      "cell_type": "code",
      "source": [
        "test_input = \"Snake\"\n",
        "if test_input == 'Fox' or None:\n",
        "  print(\"What do you notice?\")\n",
        "\n",
        "if test_input == 'Fox' or 0:\n",
        "  print(\"What do you notice?\")"
      ],
      "metadata": {
        "id": "3RELmE7oIuId"
      },
      "execution_count": null,
      "outputs": []
    },
    {
      "cell_type": "markdown",
      "source": [
        "There's another thing you can do with conditions and that is to reverse the resulting condition from True to False or vice versa using `not`."
      ],
      "metadata": {
        "id": "u5fxUgONGs4j"
      }
    },
    {
      "cell_type": "code",
      "source": [
        "not True"
      ],
      "metadata": {
        "id": "6GowbTQCGrJD"
      },
      "execution_count": null,
      "outputs": []
    },
    {
      "cell_type": "code",
      "source": [
        "if not False:\n",
        "  print(\"Hey it printed!\")"
      ],
      "metadata": {
        "id": "kdYJzQvDI0Q-"
      },
      "execution_count": null,
      "outputs": []
    },
    {
      "cell_type": "markdown",
      "source": [
        "Now with your combined knowledge of while loops and conditions, go back to your code and think about a way to make sure your first user input matches what you are expecting and to keep asking the user until it does. Think about what kind of condition your input needs to match. You will likely need a while loop of some sort and a condition to go along with it. Don't be afraid to try things! Trying an failing is how we learn."
      ],
      "metadata": {
        "id": "kfFmYxHIB9GQ"
      }
    },
    {
      "cell_type": "markdown",
      "source": [
        "When you're ready to move on to trying to tackle issues that can arise from the second user input, open the hidden code cell below to see one possible way you could have tackled this problem:"
      ],
      "metadata": {
        "id": "fATvvYoBDke7"
      }
    },
    {
      "cell_type": "code",
      "source": [
        "#@title Press Play on Left (Show Hidden Code When Ready)\n",
        "\n",
        "# initialize a condition so that while loop will keep asking according to this condition\n",
        "# I will reverse this value once I get the value I want\n",
        "correct_1 = False\n",
        "\n",
        "# a list of values I want to accept (notice that these are strings) Square brackets [] are for list structures.\n",
        "accepted_values = [\"1\", \"2\", \"3\"]\n",
        "\n",
        "# in other words while correct_1 is False, I want it to keep asking the user until it gives me a correct input:\n",
        "while not correct_1:\n",
        "  print('Temperature type to convert:')\n",
        "  print('1. Farenheit')\n",
        "  print('2. Celsius')\n",
        "  print('3. Kelvin')\n",
        "\n",
        "  user_temp_type = input('Enter the number (1, 2, or 3) of the temperature type you wish to convert from the list above: ')\n",
        "\n",
        "  # if the user gives me \"1\", \"2\", or \"3\" since those are values in accepted_values list\n",
        "  # you could have done this instead: \n",
        "  # if user_temp_type == '1' or 'user_temp_type' == '2' or 'user_temp_type' == '3':\n",
        "  # but you can see this gets longer and longer to type and will look less organized the more accepted values we have\n",
        "  if user_temp_type in accepted_values:\n",
        "    # then I will reverse the condition to break out of the loop\n",
        "    # the rest of the while loop will play to the very end even though we meet the indicator to break the loop here\n",
        "    correct_1 = True\n",
        "  else: \n",
        "    # otherwise, if not the right value, I'll give them an error message\n",
        "      print(\"\")\n",
        "      print(\"-- Error: Unexpected Input. -- Please Enter: 1, 2, or 3 to convert temperature from\")\n",
        "      print(\"\")\n",
        "\n",
        "\n",
        "# the rest is unchanged so far\n",
        "\n",
        "\n",
        "\n",
        "\n",
        "user_temp_value = input('Enter the value of the temperature: ')\n",
        "user_temp_value = int(user_temp_value)\n",
        "\n",
        "for temp in user_temp_type:\n",
        "  if user_temp_type == '1':\n",
        "    #F to K, C\n",
        "    F_to_K = ((user_temp_value - 32.0) * (5.0/9.0)) + 273.15\n",
        "    F_to_C = (user_temp_value - 32.0) * (5.0/9.0)\n",
        "    print(user_temp_value, \"degrees Fahrenheit is \", \"{:0.2f}\".format(F_to_K),'degrees Kelvin.')\n",
        "    print(user_temp_value, \"degrees Fahrenheit is \", \"{:0.2f}\".format(F_to_C),'degrees Celsius.')\n",
        "  \n",
        "  elif user_temp_type == '2':\n",
        "    #C to F, K\n",
        "    C_to_K = user_temp_value + 273.15\n",
        "    C_to_F = (user_temp_value * (9.0/5.0)) + 32\n",
        "    print(user_temp_value, \"degrees Celsius is \", \"{:0.2f}\".format(C_to_K),'degrees Kelvin.')\n",
        "    print(user_temp_value, \"degrees Celsius is \", \"{:0.2f}\".format(C_to_F),'degrees Fahrenheit.')\n",
        "  \n",
        "  else:\n",
        "    #K to F, C\n",
        "    K_to_F = ((user_temp_value - 273.15) * (9.0/5.0)) +32\n",
        "    K_to_C = user_temp_value - 273.15\n",
        "    print(user_temp_value, \"degrees Kelvin is \", \"{:0.2f}\".format(K_to_F),'degrees Fahrenheit.')\n",
        "    print(user_temp_value, \"degrees Kevlin is \", \"{:0.2f}\".format(K_to_C),'degrees Celsius.')"
      ],
      "metadata": {
        "cellView": "form",
        "id": "sMcpVfllD9pD"
      },
      "execution_count": null,
      "outputs": []
    },
    {
      "cell_type": "markdown",
      "source": [
        "Great work! Now let's try to make sure the second user input is the kind of values we expect. Let's try your code first (you can also replace this with your new improved so far since it'll have the same issue). Input into the second user input a string like absdasdc then try to input a decimal number like 3.14."
      ],
      "metadata": {
        "id": "5VYBt8JfL6BY"
      }
    },
    {
      "cell_type": "code",
      "source": [
        "print('Temperature type to convert:')\n",
        "print('1. Farenheit')\n",
        "print('2. Celsius')\n",
        "print('3. Kelvin')\n",
        "\n",
        "user_temp_type = input('Enter the number (1, 2, or 3) of the temperature type you wish to convert from the list above: ')\n",
        "user_temp_value = input('Enter the value of the temperature: ')\n",
        "user_temp_value = int(user_temp_value)\n",
        "\n",
        "for temp in user_temp_type:\n",
        "  if user_temp_type == '1':\n",
        "    #F to K, C\n",
        "    F_to_K = ((user_temp_value - 32.0) * (5.0/9.0)) + 273.15\n",
        "    F_to_C = (user_temp_value - 32.0) * (5.0/9.0)\n",
        "    print(user_temp_value, \"degrees Fahrenheit is \", \"{:0.2f}\".format(F_to_K),'degrees Kelvin.')\n",
        "    print(user_temp_value, \"degrees Fahrenheit is \", \"{:0.2f}\".format(F_to_C),'degrees Celsius.')\n",
        "  \n",
        "  elif user_temp_type == '2':\n",
        "    #C to F, K\n",
        "    C_to_K = user_temp_value + 273.15\n",
        "    C_to_F = (user_temp_value * (9.0/5.0)) + 32\n",
        "    print(user_temp_value, \"degrees Celsius is \", \"{:0.2f}\".format(C_to_K),'degrees Kelvin.')\n",
        "    print(user_temp_value, \"degrees Celsius is \", \"{:0.2f}\".format(C_to_F),'degrees Fahrenheit.')\n",
        "  \n",
        "  else:\n",
        "    #K to F, C\n",
        "    K_to_F = ((user_temp_value - 273.15) * (9.0/5.0)) +32\n",
        "    K_to_C = user_temp_value - 273.15\n",
        "    print(user_temp_value, \"degrees Kelvin is \", \"{:0.2f}\".format(K_to_F),'degrees Fahrenheit.')\n",
        "    print(user_temp_value, \"degrees Kevlin is \", \"{:0.2f}\".format(K_to_C),'degrees Celsius.')"
      ],
      "metadata": {
        "id": "LSkd_dO2NATN"
      },
      "execution_count": null,
      "outputs": []
    },
    {
      "cell_type": "markdown",
      "source": [
        "What do you notice? What kind of values do you want it to be able to take?\n",
        "\n",
        "The main issue is that code currently isn't equipped to deal with a string input like absdfasd. Also you may disagree, but I think the code should be able to take in decimal inputs as well. As such, I think the better conversion would be to use `float()` to deal with decimal numbers. Floats are less accurate decimal numbers but you don't have to worry about that right now.\n",
        "\n",
        "Let's see how we can make sure the input is a number:"
      ],
      "metadata": {
        "id": "p5Klsn6cNxYi"
      }
    },
    {
      "cell_type": "code",
      "source": [
        "# First with actual string numbers\n",
        "print(float(\"32\"))"
      ],
      "metadata": {
        "id": "oRAefpvEOzmy"
      },
      "execution_count": null,
      "outputs": []
    },
    {
      "cell_type": "code",
      "source": [
        "# now with a character string\n",
        "print(float(\"abcd\"))"
      ],
      "metadata": {
        "id": "LoMPYGyWPGnW"
      },
      "execution_count": null,
      "outputs": []
    },
    {
      "cell_type": "markdown",
      "source": [
        "Notice that the error is called ValueError. This will be important for the next steps.\n",
        "\n",
        "One way to deal with errors in python is with \n",
        "```\n",
        "try: \n",
        "  x \n",
        "except:\n",
        "  y\n",
        "  ```"
      ],
      "metadata": {
        "id": "_opKqwj6PYRS"
      }
    },
    {
      "cell_type": "markdown",
      "source": [
        "Python will try to run the code in the try section x and when it runs into an error, it will stop and see if the except error is met and if it is it'll run that y section.\n",
        "\n",
        "Let's see how this works:"
      ],
      "metadata": {
        "id": "URanebdpQW6N"
      }
    },
    {
      "cell_type": "code",
      "source": [
        "a = 1\n",
        "b = \"1\"\n",
        "a + b"
      ],
      "metadata": {
        "id": "DWGBlKmoRRsA"
      },
      "execution_count": null,
      "outputs": []
    },
    {
      "cell_type": "markdown",
      "source": [
        "That code should fail and inform you that there's a TypeError. Now let's see what happens when we use try and except."
      ],
      "metadata": {
        "id": "vS5Zx4kPRcbc"
      }
    },
    {
      "cell_type": "code",
      "source": [
        "a = 1\n",
        "b = \"1\"\n",
        "\n",
        "try:\n",
        "  a + b\n",
        "except:\n",
        "  print(\"strings aren't addable to numbers\")"
      ],
      "metadata": {
        "id": "lckZc2aYPXPy"
      },
      "execution_count": null,
      "outputs": []
    },
    {
      "cell_type": "markdown",
      "source": [
        "You can see that it didn't fail and ran the except section because the try section gave an error. When we don't specify an except error type, it'll perform for every error type. This is considered bad because you don't want to take and do the same thing for every error as this will introduce more bugs.\n",
        "\n",
        "Let's see what happens when I ask except to only work for ValueError like the error printed when converting string characters to float."
      ],
      "metadata": {
        "id": "gxmV8ToZRmkv"
      }
    },
    {
      "cell_type": "code",
      "source": [
        "a = 1\n",
        "b = \"1\"\n",
        "\n",
        "try:\n",
        "  a + b\n",
        "except ValueError:\n",
        "  print(\"strings aren't addable to numbers\")"
      ],
      "metadata": {
        "id": "w6fGmtSNRmPe"
      },
      "execution_count": null,
      "outputs": []
    },
    {
      "cell_type": "markdown",
      "source": [
        "You can see that it broke in this instance because the except didn't take TypeError like it did in the previous one. Now let's replace it with TypeError:"
      ],
      "metadata": {
        "id": "CoedoGeLSQpg"
      }
    },
    {
      "cell_type": "code",
      "source": [
        "a = 1\n",
        "b = \"1\"\n",
        "\n",
        "try:\n",
        "  a + b\n",
        "except TypeError:\n",
        "  print(\"strings aren't addable to numbers\")"
      ],
      "metadata": {
        "id": "yRhIe3rcSZ5c"
      },
      "execution_count": null,
      "outputs": []
    },
    {
      "cell_type": "markdown",
      "source": [
        "That's pretty neat, so now put this all together to make sure we can get a user input that is a number of any kind and to repeatedly ask the user until we do. We know the error code it will throw, so try to use it rather than to just accept everything."
      ],
      "metadata": {
        "id": "Qo5g7J2JSe8G"
      }
    },
    {
      "cell_type": "markdown",
      "source": [
        "You're doing great! Not too bad isn't it? If you are ready to move click \"Show code\" below to see my answer to the improvements so far."
      ],
      "metadata": {
        "id": "dIEELvTqilzC"
      }
    },
    {
      "cell_type": "code",
      "source": [
        "#@title Press Play on Left (Show Hidden Code When Ready)\n",
        "\n",
        "# previous improved code\n",
        "correct_1 = False\n",
        "\n",
        "accepted_values = [\"1\", \"2\", \"3\"]\n",
        "\n",
        "while not correct_1:\n",
        "  print('Temperature type to convert:')\n",
        "  print('1. Farenheit')\n",
        "  print('2. Celsius')\n",
        "  print('3. Kelvin')\n",
        "\n",
        "  user_temp_type = input('Enter the number (1, 2, or 3) of the temperature type you wish to convert from the list above: ')\n",
        "\n",
        "  if user_temp_type in accepted_values:\n",
        "    correct_1 = True\n",
        "  else: \n",
        "      print(\"\")\n",
        "      print(\"-- Error: Unexpected Input. -- Please Enter: 1, 2, or 3 to convert temperature from\")\n",
        "      print(\"\")\n",
        "\n",
        "\n",
        "\n",
        "# now we will improve the code for the second input:\n",
        "\n",
        "# just like previously, we'll initialize a condition to\n",
        "correct_2 = False\n",
        "\n",
        "# while correct 2 is False, we will keep asking for input and using try: and except: to deal with the error\n",
        "while not correct_2:\n",
        "  # ask for user input\n",
        "  user_temp_value = input('Enter the value of the temperature: ')\n",
        "  # now let's try to change the input to float and if it succeeds, the rest of try will run and break the condition for us\n",
        "  try:\n",
        "    user_temp_value = float(user_temp_value)\n",
        "    # above line succeeded so we will set the second input condition to True and break while loop\n",
        "    correct_2 = True\n",
        "  # if the error is called ValueError as in the error that occured we try to enter a non numeric string\n",
        "  except ValueError:\n",
        "    # print an error message and ask the user to try again\n",
        "    print(\"\")\n",
        "    print(\"-- Error: Unexpected Input. -- Please enter a number.\")\n",
        "    print(\"\")\n",
        "\n",
        "\n",
        "\n",
        "\n",
        "# the rest is unchanged so far\n",
        "\n",
        "\n",
        "\n",
        "\n",
        "for temp in user_temp_type:\n",
        "  if user_temp_type == '1':\n",
        "    #F to K, C\n",
        "    F_to_K = ((user_temp_value - 32.0) * (5.0/9.0)) + 273.15\n",
        "    F_to_C = (user_temp_value - 32.0) * (5.0/9.0)\n",
        "    print(user_temp_value, \"degrees Fahrenheit is \", \"{:0.2f}\".format(F_to_K),'degrees Kelvin.')\n",
        "    print(user_temp_value, \"degrees Fahrenheit is \", \"{:0.2f}\".format(F_to_C),'degrees Celsius.')\n",
        "  \n",
        "  elif user_temp_type == '2':\n",
        "    #C to F, K\n",
        "    C_to_K = user_temp_value + 273.15\n",
        "    C_to_F = (user_temp_value * (9.0/5.0)) + 32\n",
        "    print(user_temp_value, \"degrees Celsius is \", \"{:0.2f}\".format(C_to_K),'degrees Kelvin.')\n",
        "    print(user_temp_value, \"degrees Celsius is \", \"{:0.2f}\".format(C_to_F),'degrees Fahrenheit.')\n",
        "  \n",
        "  else:\n",
        "    #K to F, C\n",
        "    K_to_F = ((user_temp_value - 273.15) * (9.0/5.0)) +32\n",
        "    K_to_C = user_temp_value - 273.15\n",
        "    print(user_temp_value, \"degrees Kelvin is \", \"{:0.2f}\".format(K_to_F),'degrees Fahrenheit.')\n",
        "    print(user_temp_value, \"degrees Kevlin is \", \"{:0.2f}\".format(K_to_C),'degrees Celsius.')"
      ],
      "metadata": {
        "cellView": "form",
        "id": "6hFDaqGrUcB0"
      },
      "execution_count": null,
      "outputs": []
    },
    {
      "cell_type": "markdown",
      "source": [
        "## Unnecessary For Loop"
      ],
      "metadata": {
        "id": "Pbz_c44bi9n9"
      }
    },
    {
      "cell_type": "markdown",
      "source": [
        "Your for loop doesn't serve any purposes currently since you only expect one item, but it can introduce bugs to your program.\n",
        "\n",
        "For your original program below, for the first input, try putting in 124 for example. Then put an actual number like 35. What do you notice?"
      ],
      "metadata": {
        "id": "ZzZcLwotjDg2"
      }
    },
    {
      "cell_type": "code",
      "source": [
        "print('Temperature type to convert:')\n",
        "print('1. Farenheit')\n",
        "print('2. Celsius')\n",
        "print('3. Kelvin')\n",
        "\n",
        "user_temp_type = input('Enter the number (1, 2, or 3) of the temperature type you wish to convert from the list above: ')\n",
        "user_temp_value = input('Enter the value of the temperature: ')\n",
        "user_temp_value = int(user_temp_value)\n",
        "\n",
        "for temp in user_temp_type:\n",
        "  if user_temp_type == '1':\n",
        "    #F to K, C\n",
        "    F_to_K = ((user_temp_value - 32.0) * (5.0/9.0)) + 273.15\n",
        "    F_to_C = (user_temp_value - 32.0) * (5.0/9.0)\n",
        "    print(user_temp_value, \"degrees Fahrenheit is \", \"{:0.2f}\".format(F_to_K),'degrees Kelvin.')\n",
        "    print(user_temp_value, \"degrees Fahrenheit is \", \"{:0.2f}\".format(F_to_C),'degrees Celsius.')\n",
        "  \n",
        "  elif user_temp_type == '2':\n",
        "    #C to F, K\n",
        "    C_to_K = user_temp_value + 273.15\n",
        "    C_to_F = (user_temp_value * (9.0/5.0)) + 32\n",
        "    print(user_temp_value, \"degrees Celsius is \", \"{:0.2f}\".format(C_to_K),'degrees Kelvin.')\n",
        "    print(user_temp_value, \"degrees Celsius is \", \"{:0.2f}\".format(C_to_F),'degrees Fahrenheit.')\n",
        "  \n",
        "  else:\n",
        "    #K to F, C\n",
        "    K_to_F = ((user_temp_value - 273.15) * (9.0/5.0)) +32\n",
        "    K_to_C = user_temp_value - 273.15\n",
        "    print(user_temp_value, \"degrees Kelvin is \", \"{:0.2f}\".format(K_to_F),'degrees Fahrenheit.')\n",
        "    print(user_temp_value, \"degrees Kevlin is \", \"{:0.2f}\".format(K_to_C),'degrees Celsius.')"
      ],
      "metadata": {
        "id": "DWVxw1IzkQTV"
      },
      "execution_count": null,
      "outputs": []
    },
    {
      "cell_type": "markdown",
      "source": [
        "You may have noticed that it treated 35 as Kelvin since 124 is not 1 or 2, but it is included in else. \n",
        "\n",
        "You may have also noticed that it did the conversion 3 times. What's going on there? \n",
        "\n",
        "Since we made sure our user inputs where in the format we want, we don't need to worry about it, but we should fix these things as good practice and will be helpful should we need to change anything.\n",
        "\n",
        "Let's see why it converted 3 times:"
      ],
      "metadata": {
        "id": "OcFjZTCQk7yt"
      }
    },
    {
      "cell_type": "code",
      "source": [
        "for char in '124':\n",
        "  print(char)"
      ],
      "metadata": {
        "id": "6fx8nIBYksB6"
      },
      "execution_count": null,
      "outputs": []
    },
    {
      "cell_type": "markdown",
      "source": [
        "Notice that a string is iterable, which just means we can iterate (go through it in a sequential matter). `'124'` for example is made up of `'1'`, `'2'`, and `'4'`. \n",
        "\n",
        "\n",
        "So for your case, for each item `temp` in user input `user_temp_type`, it checked whether the total input `user_temp_type` was `'1'` or `'2'` and if not then it went to else. Remember that your `user_temp_type` was `'124'` in this case, but if you changed your conversion conditions to something like `if temp == 1`, then you will see it will treat your conversion number as Farenheit for 1 and then Celcius for 2 and then Kelvin for 4 (else).\n",
        "\n",
        "\n",
        "Notice we can't do this to the number 124, because we can't split that into parts and go through it so the below will fail:"
      ],
      "metadata": {
        "id": "mkn910o8l1WD"
      }
    },
    {
      "cell_type": "code",
      "source": [
        "for num in 124:\n",
        "  print(num)"
      ],
      "metadata": {
        "id": "HbWgfw8Dmia4"
      },
      "execution_count": null,
      "outputs": []
    },
    {
      "cell_type": "markdown",
      "source": [
        "Now that you can see what problems the for loop can cause, I would suggest removing and changing the else condition to an elif to only take 3 just in case."
      ],
      "metadata": {
        "id": "DoZnju2Pooco"
      }
    },
    {
      "cell_type": "markdown",
      "source": [
        "Great work! Click 'Show code' below when you're ready to move on."
      ],
      "metadata": {
        "id": "3i2P--cuo1ME"
      }
    },
    {
      "cell_type": "code",
      "source": [
        "#@title Press Play on Left (Show Hidden Code When Ready)\n",
        "\n",
        "# previous improved code\n",
        "correct_1 = False\n",
        "\n",
        "accepted_values = [\"1\", \"2\", \"3\"]\n",
        "\n",
        "while not correct_1:\n",
        "  print('Temperature type to convert:')\n",
        "  print('1. Farenheit')\n",
        "  print('2. Celsius')\n",
        "  print('3. Kelvin')\n",
        "\n",
        "  user_temp_type = input('Enter the number (1, 2, or 3) of the temperature type you wish to convert from the list above: ')\n",
        "\n",
        "  if user_temp_type in accepted_values:\n",
        "    correct_1 = True\n",
        "  else: \n",
        "      print(\"\")\n",
        "      print(\"-- Error: Unexpected Input. -- Please Enter: 1, 2, or 3 to convert temperature from\")\n",
        "      print(\"\")\n",
        "\n",
        "correct_2 = False\n",
        "\n",
        "while not correct_2:\n",
        "  user_temp_value = input('Enter the value of the temperature: ')\n",
        "  try:\n",
        "    user_temp_value = float(user_temp_value)\n",
        "    correct_2 = True\n",
        "  except ValueError:\n",
        "    print(\"\")\n",
        "    print(\"-- Error: Unexpected Input. -- Please enter a number.\")\n",
        "    print(\"\")\n",
        "\n",
        "\n",
        "#remove for loop and fix indent\n",
        "if user_temp_type == '1':\n",
        "  #F to K, C\n",
        "  F_to_K = ((user_temp_value - 32.0) * (5.0/9.0)) + 273.15\n",
        "  F_to_C = (user_temp_value - 32.0) * (5.0/9.0)\n",
        "  print(user_temp_value, \"degrees Fahrenheit is \", \"{:0.2f}\".format(F_to_K),'degrees Kelvin.')\n",
        "  print(user_temp_value, \"degrees Fahrenheit is \", \"{:0.2f}\".format(F_to_C),'degrees Celsius.')\n",
        "\n",
        "elif user_temp_type == '2':\n",
        "  #C to F, K\n",
        "  C_to_K = user_temp_value + 273.15\n",
        "  C_to_F = (user_temp_value * (9.0/5.0)) + 32\n",
        "  print(user_temp_value, \"degrees Celsius is \", \"{:0.2f}\".format(C_to_K),'degrees Kelvin.')\n",
        "  print(user_temp_value, \"degrees Celsius is \", \"{:0.2f}\".format(C_to_F),'degrees Fahrenheit.')\n",
        "\n",
        "#change this to an elif so that we don't just take everything for else, since that won't make sense for this context\n",
        "elif user_temp_type == '3':\n",
        "  #K to F, C\n",
        "  K_to_F = ((user_temp_value - 273.15) * (9.0/5.0)) +32\n",
        "  K_to_C = user_temp_value - 273.15\n",
        "  print(user_temp_value, \"degrees Kelvin is \", \"{:0.2f}\".format(K_to_F),'degrees Fahrenheit.')\n",
        "  print(user_temp_value, \"degrees Kevlin is \", \"{:0.2f}\".format(K_to_C),'degrees Celsius.')"
      ],
      "metadata": {
        "cellView": "form",
        "id": "xvxIpnF6nIVQ"
      },
      "execution_count": null,
      "outputs": []
    },
    {
      "cell_type": "markdown",
      "source": [
        "## Slightly Inefficent Code Due to Unnecessary Repeats"
      ],
      "metadata": {
        "id": "NKvFUGAlp-43"
      }
    },
    {
      "cell_type": "markdown",
      "source": [
        "You do have a little bit of inefficent code in your program due to unnecessary repeating of code sections. While it definitely doesn't matter in this case (if it runs it runs amirite), but it's good to start noticing them and practice avoiding unnecesary repeats."
      ],
      "metadata": {
        "id": "4c5zykIAqOTs"
      }
    },
    {
      "cell_type": "markdown",
      "source": [
        "Look at a section of your code below what do you notice is repeating?"
      ],
      "metadata": {
        "id": "FioFnvCAq7as"
      }
    },
    {
      "cell_type": "code",
      "source": [
        "user_temp_type = '1'\n",
        "user_temp_value = 32.4\n",
        "\n",
        "if user_temp_type == '1':\n",
        "  #F to K, C\n",
        "  F_to_K = ((user_temp_value - 32.0) * (5.0/9.0)) + 273.15\n",
        "  F_to_C = (user_temp_value - 32.0) * (5.0/9.0)\n",
        "  print(user_temp_value, \"degrees Fahrenheit is \", \"{:0.2f}\".format(F_to_K),'degrees Kelvin.')\n",
        "  print(user_temp_value, \"degrees Fahrenheit is \", \"{:0.2f}\".format(F_to_C),'degrees Celsius.')"
      ],
      "metadata": {
        "id": "tV0lkyp_qPK0"
      },
      "execution_count": null,
      "outputs": []
    },
    {
      "cell_type": "markdown",
      "source": [
        "That's right, you may have noticed that you are doing this: `(user_temp_value - 32.0) * (5.0/9.0)` twice, once in F_to_K and another in F_to_C. How might we avoid having to do this twice? Well F_to_C is the value of this repeated part, so why don't we just do it first and then F_to_K will just be adding 273.15 to the result of F_to_C!"
      ],
      "metadata": {
        "id": "2mWSfDLBrO0S"
      }
    },
    {
      "cell_type": "code",
      "source": [
        "user_temp_type = '1'\n",
        "user_temp_value = 32.4\n",
        "\n",
        "if user_temp_type == '1':\n",
        "  #F to K, C\n",
        "  F_to_C = (user_temp_value - 32.0) * (5.0/9.0)\n",
        "  # since C to K is just adding 273.15 and we just calculated F to C\n",
        "  F_to_K = F_to_C + 273.15\n",
        "  print(user_temp_value, \"degrees Fahrenheit is \", \"{:0.2f}\".format(F_to_K),'degrees Kelvin.')\n",
        "  print(user_temp_value, \"degrees Fahrenheit is \", \"{:0.2f}\".format(F_to_C),'degrees Celsius.')"
      ],
      "metadata": {
        "id": "sdOJGptosCmJ"
      },
      "execution_count": null,
      "outputs": []
    },
    {
      "cell_type": "markdown",
      "source": [
        "We just saved ourselves a subtration operation, a division operation and a multiplication operation all at once by doing this! \n",
        "\n",
        "\n",
        "Inefficiencies like this can and will add up if there are a lot of this to process so try to keep this in mind when you're writing code."
      ],
      "metadata": {
        "id": "r_VYO8CjsQ_5"
      }
    },
    {
      "cell_type": "markdown",
      "source": [
        "Is there any where else in your code that you notice might be a little inefficent? If so, try to fix it."
      ],
      "metadata": {
        "id": "g_YMsZeXtmEt"
      }
    },
    {
      "cell_type": "markdown",
      "source": [
        "You're doing fantastic! Click 'Show code' below when you're ready to move on."
      ],
      "metadata": {
        "id": "leiEb7Cdu6kg"
      }
    },
    {
      "cell_type": "code",
      "source": [
        "#@title Press Play on Left (Show Hidden Code When Ready)\n",
        "\n",
        "# previous improved code\n",
        "correct_1 = False\n",
        "\n",
        "accepted_values = [\"1\", \"2\", \"3\"]\n",
        "\n",
        "while not correct_1:\n",
        "  print('Temperature type to convert:')\n",
        "  print('1. Farenheit')\n",
        "  print('2. Celsius')\n",
        "  print('3. Kelvin')\n",
        "\n",
        "  user_temp_type = input('Enter the number (1, 2, or 3) of the temperature type you wish to convert from the list above: ')\n",
        "\n",
        "  if user_temp_type in accepted_values:\n",
        "    correct_1 = True\n",
        "  else: \n",
        "      print(\"\")\n",
        "      print(\"-- Error: Unexpected Input. -- Please Enter: 1, 2, or 3 to convert temperature from\")\n",
        "      print(\"\")\n",
        "\n",
        "correct_2 = False\n",
        "\n",
        "while not correct_2:\n",
        "  user_temp_value = input('Enter the value of the temperature: ')\n",
        "  try:\n",
        "    user_temp_value = float(user_temp_value)\n",
        "    correct_2 = True\n",
        "  except ValueError:\n",
        "    print(\"\")\n",
        "    print(\"-- Error: Unexpected Input. -- Please enter a number.\")\n",
        "    print(\"\")\n",
        "\n",
        "\n",
        "\n",
        "\n",
        "\n",
        "if user_temp_type == '1':\n",
        "  #F to K, C\n",
        "  # do F_to_C first\n",
        "  F_to_C = (user_temp_value - 32.0) * (5.0/9.0)\n",
        "  # now F_to_k is just converting the resulting C to K\n",
        "  F_to_K = F_to_C + 273.15\n",
        "  print(user_temp_value, \"degrees Fahrenheit is \", \"{:0.2f}\".format(F_to_K),'degrees Kelvin.')\n",
        "  print(user_temp_value, \"degrees Fahrenheit is \", \"{:0.2f}\".format(F_to_C),'degrees Celsius.')\n",
        "\n",
        "elif user_temp_type == '2':\n",
        "  #C to F, K\n",
        "  C_to_K = user_temp_value + 273.15\n",
        "  C_to_F = (user_temp_value * (9.0/5.0)) + 32\n",
        "  print(user_temp_value, \"degrees Celsius is \", \"{:0.2f}\".format(C_to_K),'degrees Kelvin.')\n",
        "  print(user_temp_value, \"degrees Celsius is \", \"{:0.2f}\".format(C_to_F),'degrees Fahrenheit.')\n",
        "\n",
        "\n",
        "elif user_temp_type == '3':\n",
        "  #K to F, C\n",
        "  # do K to C first\n",
        "  K_to_C = user_temp_value - 273.15\n",
        "  # now we can substitute the result of K_to_C into the repeated section\n",
        "  K_to_F = (K_to_C * (9.0/5.0)) +32\n",
        "  print(user_temp_value, \"degrees Kelvin is \", \"{:0.2f}\".format(K_to_F),'degrees Fahrenheit.')\n",
        "  print(user_temp_value, \"degrees Kevlin is \", \"{:0.2f}\".format(K_to_C),'degrees Celsius.')"
      ],
      "metadata": {
        "cellView": "form",
        "id": "o2b2O7UWuNhM"
      },
      "execution_count": null,
      "outputs": []
    },
    {
      "cell_type": "markdown",
      "source": [
        "## fstrings"
      ],
      "metadata": {
        "id": "lkdl_u1qvESo"
      }
    },
    {
      "cell_type": "markdown",
      "source": [
        "Let me show a faster and better way to format strings using fstrings."
      ],
      "metadata": {
        "id": "aCgpr5-PwZGG"
      }
    },
    {
      "cell_type": "markdown",
      "source": [
        "The important thing to know is just that fstrings start with an f outside of the quotes \"\". you can put the values of variables in by `{value}` inside the string and to format the value by n decimal places you can just do `{value:.nf}`.\n",
        "\n",
        "For example:"
      ],
      "metadata": {
        "id": "a5Gu5eOSw9kV"
      }
    },
    {
      "cell_type": "code",
      "source": [
        "animal = \"bear\"\n",
        "weight = 324.31241241\n",
        "\n",
        "print(f\"What a big {animal}, it must weight at least {weight:.4f} pounds!\")"
      ],
      "metadata": {
        "id": "vvwW4j4sxYUn"
      },
      "execution_count": null,
      "outputs": []
    },
    {
      "cell_type": "markdown",
      "source": [
        "There are a few caveats and things like that so give this a read if you're curious to know more:\n",
        "\n",
        "https://realpython.com/python-f-strings/"
      ],
      "metadata": {
        "id": "44S3p-4Hx_75"
      }
    },
    {
      "cell_type": "markdown",
      "source": [
        "Formatting numbers with f strings goes like this `{number:[width].[percision]f}`. \n",
        "\n",
        "\n",
        "There's more to it, but you'll learn it over time."
      ],
      "metadata": {
        "id": "HXXvvF3WyU84"
      }
    },
    {
      "cell_type": "markdown",
      "source": [
        "Now give it a try and change your .format() strings to f strings!"
      ],
      "metadata": {
        "id": "GYK64Nx1ylZJ"
      }
    },
    {
      "cell_type": "markdown",
      "source": [
        "Nice job. Click 'Show code' below when you're ready to move on."
      ],
      "metadata": {
        "id": "UbZI1QxNy3gA"
      }
    },
    {
      "cell_type": "code",
      "source": [
        "#@title Press Play on Left (Show Hidden Code When Ready)\n",
        "\n",
        "# previous improved code\n",
        "correct_1 = False\n",
        "\n",
        "accepted_values = [\"1\", \"2\", \"3\"]\n",
        "\n",
        "while not correct_1:\n",
        "  print('Temperature type to convert:')\n",
        "  print('1. Farenheit')\n",
        "  print('2. Celsius')\n",
        "  print('3. Kelvin')\n",
        "\n",
        "  user_temp_type = input('Enter the number (1, 2, or 3) of the temperature type you wish to convert from the list above: ')\n",
        "\n",
        "  if user_temp_type in accepted_values:\n",
        "    correct_1 = True\n",
        "  else: \n",
        "      print(\"\")\n",
        "      print(\"-- Error: Unexpected Input. -- Please Enter: 1, 2, or 3 to convert temperature from\")\n",
        "      print(\"\")\n",
        "\n",
        "correct_2 = False\n",
        "\n",
        "while not correct_2:\n",
        "  user_temp_value = input('Enter the value of the temperature: ')\n",
        "  try:\n",
        "    user_temp_value = float(user_temp_value)\n",
        "    correct_2 = True\n",
        "  except ValueError:\n",
        "    print(\"\")\n",
        "    print(\"-- Error: Unexpected Input. -- Please enter a number.\")\n",
        "    print(\"\")\n",
        "\n",
        "\n",
        "\n",
        "\n",
        "\n",
        "if user_temp_type == '1':\n",
        "  #F to K, C\n",
        "  F_to_C = (user_temp_value - 32.0) * (5.0/9.0)\n",
        "  F_to_K = F_to_C + 273.15\n",
        "  print(f\"{user_temp_value} degrees Fahrenheit is {F_to_K:0.2f} degrees Kelvin.\")\n",
        "  print(f\"{user_temp_value} degrees Fahrenheit is {F_to_C:0.2f} degrees Celsius.\")\n",
        "\n",
        "elif user_temp_type == '2':\n",
        "  #C to F, K\n",
        "  C_to_K = user_temp_value + 273.15\n",
        "  C_to_F = (user_temp_value * (9.0/5.0)) + 32\n",
        "  print(f\"{user_temp_value} degrees Celsius is {C_to_K:0.2f} degrees Kelvin.\")\n",
        "  print(f\"{user_temp_value} degrees Celsius is {C_to_F:0.2f} degrees Fahrenheit.\")\n",
        "\n",
        "\n",
        "elif user_temp_type == '3':\n",
        "  #K to F, C\n",
        "  K_to_C = user_temp_value - 273.15\n",
        "  K_to_F = (K_to_C * (9.0/5.0)) +32\n",
        "  print(f\"{user_temp_value} degrees Kelvin is {K_to_F:0.2f} degrees Fahrenheit.\")\n",
        "  print(f\"{user_temp_value} degrees Kelvin is {K_to_C:0.2f} degrees Celsius.\")"
      ],
      "metadata": {
        "cellView": "form",
        "id": "86jrdNbdvKHM"
      },
      "execution_count": null,
      "outputs": []
    },
    {
      "cell_type": "markdown",
      "source": [
        "## Repeating Program"
      ],
      "metadata": {
        "id": "Sk3ApejDv_-s"
      }
    },
    {
      "cell_type": "markdown",
      "source": [
        "Now that you're familiar with so many new things, as a final \"improvement\", how might you write the program so that it will repeatedly do temperature conversions until you enter an input to exit the program? How might you do this? "
      ],
      "metadata": {
        "id": "5z25JGbEzFpN"
      }
    },
    {
      "cell_type": "markdown",
      "source": [
        "And that's it! Click 'Show code' when you're ready. That was quite a long feedback document and took really long to write, but I hope you found it somewhat enjoyable and helpful in increasing your understanding. Feel free to post your code to the discord server and maybe there's a chance someone else can show you what improvements they'd make."
      ],
      "metadata": {
        "id": "Xgo-QJPSzgtq"
      }
    },
    {
      "cell_type": "code",
      "source": [
        "#@title Press Play on Left (Show Hidden Code When Ready)\n",
        "\n",
        "#move the correct input conditions outside\n",
        "correct_1 = False\n",
        "correct_2 = False\n",
        "accepted_vals1 = ['1','2','3']\n",
        "\n",
        "# make a new condition called exit\n",
        "exit = False\n",
        "\n",
        "# now while exit is false, I want to do conversions until told to exit\n",
        "while not exit:\n",
        "  while not correct_1:\n",
        "    print('Temperature type to convert:')\n",
        "    print('1. Farenheit')\n",
        "    print('2. Celsius')\n",
        "    print('3. Kelvin')\n",
        "    # gave a fourth option to enter 4 to exit. \n",
        "    print('4. Exit Program')\n",
        "    user_temp_type = input('Enter the number (1, 2, or 3) of the temperature type you wish to convert from the list above or 4 to exit program: ')\n",
        "    if user_temp_type in accepted_vals1:\n",
        "      correct_1 = True\n",
        "    # new elif condition to check when 4, put the other conditions to True so you can skip the temperature check\n",
        "    elif user_temp_type == '4':\n",
        "      # although exit is set to True here, it will still run through the rest of the program, as you'll see it print an extra space at the end\n",
        "      exit = True\n",
        "      correct_1 = True\n",
        "      correct_2 = True\n",
        "    else:\n",
        "      print(\"\")\n",
        "      print(\"-- Error: Unexpected Input. -- Please Enter: 1, 2, or 3 to convert temperature from or 4 to exit\")\n",
        "      print(\"\")\n",
        "\n",
        "\n",
        "  while not correct_2:\n",
        "    user_temp_value = input('Enter the value of the temperature: ')\n",
        "    try:\n",
        "      user_temp_value = float(user_temp_value)\n",
        "      correct_2 = True\n",
        "    except ValueError:\n",
        "      print(\"\")\n",
        "      print(\"-- Error: Unexpected Input. -- Please enter a number.\")\n",
        "      print(\"\")\n",
        "\n",
        "    \n",
        "\n",
        "  if user_temp_type == '1':\n",
        "    #F to K, C\n",
        "    F_to_C = (user_temp_value - 32.0) * (5.0/9.0)\n",
        "    F_to_K = F_to_C + 273.15\n",
        "    print(f\"{user_temp_value} degrees Fahrenheit is {F_to_K:0.2f} degrees Kelvin.\")\n",
        "    print(f\"{user_temp_value} degrees Fahrenheit is {F_to_C:0.2f} degrees Celsius.\")\n",
        "\n",
        "  elif user_temp_type == '2':\n",
        "    #C to F, K\n",
        "    C_to_K = user_temp_value + 273.15\n",
        "    C_to_F = (user_temp_value * (9.0/5.0)) + 32\n",
        "    print(f\"{user_temp_value} degrees Celsius is {C_to_K:0.2f} degrees Kelvin.\")\n",
        "    print(f\"{user_temp_value} degrees Celsius is {C_to_F:0.2f} degrees Fahrenheit.\")\n",
        "\n",
        "  elif user_temp_type == '3':\n",
        "    #K to F, C\n",
        "    K_to_C = user_temp_value - 273.15\n",
        "    K_to_F = (K_to_C * (9.0/5.0)) + 32\n",
        "    print(f\"{user_temp_value} degrees Kelvin is {K_to_F:0.2f} degrees Fahrenheit.\")\n",
        "    print(f\"{user_temp_value} degrees Kelvin is {K_to_C:0.2f} degrees Celsius.\")\n",
        "  \n",
        "  # set the input conditions to False again to ask for new inputs to check if they are the right format\n",
        "  correct_1 = False\n",
        "  correct_2 = False\n",
        "  print(\"\")"
      ],
      "metadata": {
        "cellView": "form",
        "id": "MLY45EPbyuW3"
      },
      "execution_count": null,
      "outputs": []
    },
    {
      "cell_type": "markdown",
      "source": [
        "# Putting It All Together:"
      ],
      "metadata": {
        "id": "ftBH54s79Yoe"
      }
    },
    {
      "cell_type": "code",
      "execution_count": null,
      "metadata": {
        "id": "ry36Zq8Z5JDy",
        "cellView": "form"
      },
      "outputs": [],
      "source": [
        "#@title Press Play on Left (Complete Code No Extra Comments)\n",
        "\n",
        "correct_1 = False\n",
        "correct_2 = False\n",
        "accepted_vals1 = ['1','2','3']\n",
        "\n",
        "exit = False\n",
        "\n",
        "while not exit:\n",
        "  while not correct_1:\n",
        "    print('Temperature type to convert:')\n",
        "    print('1. Farenheit')\n",
        "    print('2. Celsius')\n",
        "    print('3. Kelvin')\n",
        "    print('4. Exit Program')\n",
        "    user_temp_type = input('Enter the number (1, 2, or 3) of the temperature type you wish to convert from the list above or 4 to exit program: ')\n",
        "    if user_temp_type in accepted_vals1:\n",
        "      correct_1 = True\n",
        "    elif user_temp_type == '4':\n",
        "      exit = True\n",
        "      correct_1 = True\n",
        "      correct_2 = True\n",
        "    else:\n",
        "      print(\"\")\n",
        "      print(\"-- Error: Unexpected Input. -- Please Enter: 1, 2, or 3 to convert temperature from or 4 to exit\")\n",
        "      print(\"\")\n",
        "\n",
        "\n",
        "  while not correct_2:\n",
        "    user_temp_value = input('Enter the value of the temperature: ')\n",
        "    try:\n",
        "      user_temp_value = float(user_temp_value)\n",
        "      correct_2 = True\n",
        "    except ValueError:\n",
        "      print(\"\")\n",
        "      print(\"-- Error: Unexpected Input. -- Please enter a number.\")\n",
        "      print(\"\")\n",
        "\n",
        "    \n",
        "\n",
        "  if user_temp_type == '1':\n",
        "    #F to K, C\n",
        "    F_to_C = (user_temp_value - 32.0) * (5.0/9.0)\n",
        "    F_to_K = F_to_C + 273.15\n",
        "    print(f\"{user_temp_value} degrees Fahrenheit is {F_to_K:0.2f} degrees Kelvin.\")\n",
        "    print(f\"{user_temp_value} degrees Fahrenheit is {F_to_C:0.2f} degrees Celsius.\")\n",
        "\n",
        "  elif user_temp_type == '2':\n",
        "    #C to F, K\n",
        "    C_to_K = user_temp_value + 273.15\n",
        "    C_to_F = (user_temp_value * (9.0/5.0)) + 32\n",
        "    print(f\"{user_temp_value} degrees Celsius is {C_to_K:0.2f} degrees Kelvin.\")\n",
        "    print(f\"{user_temp_value} degrees Celsius is {C_to_F:0.2f} degrees Fahrenheit.\")\n",
        "\n",
        "  elif user_temp_type == '3':\n",
        "    #K to F, C\n",
        "    K_to_C = user_temp_value - 273.15\n",
        "    K_to_F = (K_to_C * (9.0/5.0)) + 32\n",
        "    print(f\"{user_temp_value} degrees Kelvin is {K_to_F:0.2f} degrees Fahrenheit.\")\n",
        "    print(f\"{user_temp_value} degrees Kelvin is {K_to_C:0.2f} degrees Celsius.\")\n",
        "  \n",
        "  correct_1 = False\n",
        "  correct_2 = False\n",
        "  print(\"\")"
      ]
    }
  ]
}